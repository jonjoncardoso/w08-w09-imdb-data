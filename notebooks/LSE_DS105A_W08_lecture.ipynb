{
 "cells": [
  {
   "cell_type": "markdown",
   "metadata": {},
   "source": [
    "LSE Data Science Institute | DS105A (2023/24) | Week 08\n",
    "\n",
    "# 🗓️ Week 08: Pre-processing and grouping data with pandas, a groupby-apply tutorial\n",
    "\n",
    "Theme: Cleaning and reshaping data\n",
    "\n",
    "**LAST UPDATED:** 15 November 2023\n",
    "\n",
    "**AUTHOR:** Dr [Jon Cardoso-Silva](https://jonjoncardoso.github.io)\n",
    "\n",
    "-----\n"
   ]
  },
  {
   "cell_type": "markdown",
   "metadata": {},
   "source": [
    "# **📚 PREPARATION**\n",
    "\n",
    "1. Clone this repository to your computer.\n",
    "2. Add it to your VS Code workspace.\n",
    "3. Go to [IMDb Non-Commercial Datasets](https://developer.imdb.com/non-commercial-datasets/) page, and download all `tsv.gz` files from there, place all of that under the `data/raw/` folder. This folder is gitignored, we don't want to push large data files to GitHub!\n",
    "4. Run:\n",
    "\n",
    "    ```bash\n",
    "    pip install -r requirements.txt\n",
    "    ```"
   ]
  },
  {
   "cell_type": "markdown",
   "metadata": {},
   "source": [
    "## ⚙️ Setup"
   ]
  },
  {
   "cell_type": "code",
   "execution_count": null,
   "metadata": {},
   "outputs": [],
   "source": [
    "import pandas as pd\n",
    "import matplotlib.pyplot as plt\n",
    "\n",
    "from pprint import pprint\n",
    "from tqdm.notebook import tqdm\n",
    "\n",
    "# Configure some settings for high quality plots\n",
    "%config InlineBackend.figure_formats = ['svg']\n",
    "%matplotlib inline"
   ]
  },
  {
   "cell_type": "markdown",
   "metadata": {},
   "source": [
    "# Part 1: Read zipped files\n",
    "\n",
    "You will have noticed that the files we downloaded from IMDb are compressed, which means they were transformed from **plain text** into a convenient **binary format** that uses less space. This is a good practice when handling large text-based files, making them easier to store and transfer. However, we _do_ need to read the files into memory, and for that, we need to decompress them.\n",
    "\n",
    "**How to decompress files?**\n",
    "\n",
    "- If you are on Windows, you can use software like [7-Zip](https://www.7-zip.org/). After installing it, right-click on the file and select \"Extract here\".\n",
    "- If you are on Mac, you can use the built-in Archive Utility. Right-click on the file and select \"Open with\" > \"Archive Utility\". Or, simply double-click on the file.\n",
    "\n",
    "**🐼 `pandas` for the rescue!**\n",
    "\n",
    "Luckily, `pandas` has our back. It can read compressed files directly without the need to decompress them first. If you specify the `compression` argument, the `pd.read_csv()` function can read compressed files directly  <sup>\\[[1](https://pandas.pydata.org/pandas-docs/stable/reference/api/pandas.read_csv.html)\\]</sup>\n",
    "\n",
    "If the file inside the compressed `.gz` file was a CSV, we could read it like this:\n",
    "\n",
    "```python\n",
    "pd.read_csv(\"../data/raw/name.basics.tsv.gz\", compression=\"gzip\").head()\n",
    "```\n",
    "\n",
    "However, note that the files we downloaded from IMDb are **TSV** files, not CSV. TSV stands for **Tab-Separated Values**, and it is a format similar to CSV, but instead of using commas to separate values, it uses tabs (`\\t`). Why use TSV? Who knows. The developers thought it was a good idea, I guess. \n",
    "\n",
    "Anyway, since the format is still very similar to CSV, we can use the same function to read it, but we need to specify the `sep` argument to tell `pandas` that the separator is a tab (`\\t`):"
   ]
  },
  {
   "cell_type": "markdown",
   "metadata": {},
   "source": [
    "## 1.1: 👽 Establishing first contact with the data"
   ]
  },
  {
   "cell_type": "code",
   "execution_count": null,
   "metadata": {},
   "outputs": [],
   "source": [
    "# This will take a bit of time, it is a large file\n",
    "df_name_basics = pd.read_csv(\"../data/raw/name.basics.tsv.gz\", compression=\"gzip\", sep=\"\\t\")"
   ]
  },
  {
   "cell_type": "markdown",
   "metadata": {},
   "source": [
    "🗣️ **QUESTION TO THE CLASSROOM:** What are the first things we should do when we read a new dataset, **whether** collected by you or from someone else?\n",
    "\n",
    "<div style=\"color:#f8f8f8\">\n",
    "\n",
    "<details><summary>Click here to see some hidden tips</summary>\n",
    "\n",
    "Open new code cells with the following code:\n",
    "\n",
    "```python\n",
    "# Glimpse at the data\n",
    "df_name_basics.head()\n",
    "```\n",
    "\n",
    "```python\n",
    "# Get a bit of info on the data types and memory usage\n",
    "df_name_basics.info()\n",
    "```\n",
    "\n",
    "```bash\n",
    "# How does the memory usage compare to the file size?\n",
    "!ls -lth ../data/raw/\n",
    "```\n",
    "</summary>\n",
    "\n",
    "</div>"
   ]
  },
  {
   "cell_type": "code",
   "execution_count": null,
   "metadata": {},
   "outputs": [],
   "source": []
  },
  {
   "cell_type": "markdown",
   "metadata": {},
   "source": [
    "## 1.2 🗃️ Being your best perfectionist with data types\n",
    "\n",
    "🎯 **ACTION POINTS:**\n",
    "\n",
    "Work in groups (same composition as your group project) and do the following:\n",
    "\n",
    "1. Disable GitHub Copilot, and don't use ChatGPT for now. Or it will make this less fun.\n",
    "\n",
    "2. Modify the columns so that, in the end, they have the data types listed above. Try to deal with any errors that may arise.\n",
    "\n",
    "3. Once you solved the errors, go to issue [#1](https://github.com/lse-ds105/w08-imdb-data/issues/1)(https://github.com/lse-ds105/w08-imdb-data/issues/1) that I created in this repository and add your group's solution. (add your group's name)"
   ]
  },
  {
   "cell_type": "code",
   "execution_count": null,
   "metadata": {},
   "outputs": [],
   "source": [
    "# Add your code here"
   ]
  }
 ],
 "metadata": {
  "kernelspec": {
   "display_name": "base",
   "language": "python",
   "name": "python3"
  },
  "language_info": {
   "codemirror_mode": {
    "name": "ipython",
    "version": 3
   },
   "file_extension": ".py",
   "mimetype": "text/x-python",
   "name": "python",
   "nbconvert_exporter": "python",
   "pygments_lexer": "ipython3",
   "version": "3.10.8"
  }
 },
 "nbformat": 4,
 "nbformat_minor": 2
}
